{
  "cells": [
    {
      "cell_type": "markdown",
      "source": [
        "# Create ASV Frequency Tables and Annotations:\n",
        "\n",
        "\n",
        "## Steps\n",
        "\n",
        "1. Import reads downloaded from GenBank into three qiime2 artifacts (one per Illumina run).\n",
        "2. Remove reads without a primer sequence in the 5' and remove primer in remaining reads (cutadapt) for each run.\n",
        "3. Denoise and find unique reads (ASVs), and calculate ASV counts per sample (dada2), for each run.\n",
        "4. Merge the results from the 3 Illumina runs into a single ASV table. Resulting in:\n",
        "    1. Artifact with ASV frequency table\n",
        "    2. Artifact with the sequence of each ASV\n",
        "5. Create tree of the ASVs.\n",
        "6. Assign Taxonomy to each ASV. Download Silva database and assign taxonomy.\n"
      ],
      "metadata": {}
    },
    {
      "cell_type": "markdown",
      "source": [
        "## 1. Import Reads\n",
        "\n",
        "The list of sequences is in the `manifestX.txt` files in the `data` directory. These files were created by the previous notebook [01-DataDownload.ipynb](01-DataDownload.ipynb) when it downloaded and renamed the GenBank files."
      ],
      "metadata": {
        "heading_collapsed": true
      }
    },
    {
      "cell_type": "code",
      "source": [
        "!mkdir 01-Intermediate\n",
        "\n",
        "!qiime tools import \\\n",
        "  --type 'SampleData[SequencesWithQuality]' \\\n",
        "  --input-path maps/manifest1.txt \\\n",
        "  --output-path 01-Intermediate/demultiplexed-seqs1.qza \\\n",
        "  --input-format SingleEndFastqManifestPhred33V2\n",
        "\n",
        "!qiime tools import \\\n",
        "  --type 'SampleData[SequencesWithQuality]' \\\n",
        "  --input-path maps/manifest2.txt \\\n",
        "  --output-path 01-Intermediate/demultiplexed-seqs2.qza \\\n",
        "  --input-format SingleEndFastqManifestPhred33V2\n",
        "\n",
        "!qiime tools import \\\n",
        "  --type 'SampleData[SequencesWithQuality]' \\\n",
        "  --input-path maps/manifest3.txt \\\n",
        "  --output-path 01-Intermediate/demultiplexed-seqs3.qza \\\n",
        "  --input-format SingleEndFastqManifestPhred33V2\n",
        "\n",
        "!qiime demux summarize \\\n",
        "  --i-data 01-Intermediate/demultiplexed-seqs1.qza \\\n",
        "  --p-n 100000 \\\n",
        "  --verbose \\\n",
        "  --o-visualization 01-Intermediate/demux_seqs1.qzv\n",
        "\n",
        "!qiime demux summarize \\\n",
        "  --i-data 01-Intermediate/demultiplexed-seqs2.qza \\\n",
        "  --p-n 100000 \\\n",
        "  --verbose \\\n",
        "  --o-visualization 01-Intermediate/demux_seqs2.qzv\n",
        "\n",
        "!qiime demux summarize \\\n",
        "  --i-data 01-Intermediate/demultiplexed-seqs3.qza \\\n",
        "  --p-n 100000 \\\n",
        "  --verbose \\\n",
        "  --o-visualization 01-Intermediate/demux_seqs3.qzv"
      ],
      "outputs": [],
      "execution_count": null,
      "metadata": {
        "hidden": true
      }
    },
    {
      "cell_type": "markdown",
      "source": [
        "## 2. Remove reads without primer and trim primer"
      ],
      "metadata": {}
    },
    {
      "cell_type": "code",
      "source": [
        "!qiime cutadapt trim-single \\\n",
        "  --i-demultiplexed-sequences 01-Intermediate/demultiplexed-seqs1.qza \\\n",
        "  --p-cores 12 \\\n",
        "  --p-front AGRGTTTGATCMTGGCTCAG \\\n",
        "  --p-discard-untrimmed \\\n",
        "  --o-trimmed-sequences 01-Intermediate/trimmed-seqs1.qza \\\n",
        "  --verbose > 01-Intermediate/trim1.log\n",
        "\n",
        "!qiime cutadapt trim-single \\\n",
        "  --i-demultiplexed-sequences 01-Intermediate/demultiplexed-seqs2.qza \\\n",
        "  --p-cores 12 \\\n",
        "  --p-front AGRGTTTGATCMTGGCTCAG \\\n",
        "  --p-discard-untrimmed \\\n",
        "  --o-trimmed-sequences 01-Intermediate/trimmed-seqs2.qza \\\n",
        "  --verbose > 01-Intermediate/trim2.log\n",
        "\n",
        "!qiime cutadapt trim-single \\\n",
        "  --i-demultiplexed-sequences 01-Intermediate/demultiplexed-seqs3.qza \\\n",
        "  --p-cores 12 \\\n",
        "  --p-front AGRGTTTGATCMTGGCTCAG \\\n",
        "  --p-discard-untrimmed \\\n",
        "  --o-trimmed-sequences 01-Intermediate/trimmed-seqs3.qza \\\n",
        "  --verbose > 01-Intermediate/trim3.log\n",
        "\n",
        "!qiime demux summarize \\\n",
        "  --i-data 01-Intermediate/trimmed-seqs1.qza \\\n",
        "  --p-n 100000 \\\n",
        "  --verbose \\\n",
        "  --o-visualization 01-Intermediate/trimed_seqs1.qzv\n",
        "\n",
        "!qiime demux summarize \\\n",
        "  --i-data 01-Intermediate/trimmed-seqs2.qza \\\n",
        "  --p-n 100000 \\\n",
        "  --verbose \\\n",
        "  --o-visualization 01-Intermediate/trimed_seqs2.qzv\n",
        "\n",
        "!qiime demux summarize \\\n",
        "  --i-data 01-Intermediate/trimmed-seqs3.qza \\\n",
        "  --p-n 100000 \\\n",
        "  --verbose \\\n",
        "  --o-visualization 01-Intermediate/trimed_seqs3.qzv"
      ],
      "outputs": [],
      "execution_count": null,
      "metadata": {}
    },
    {
      "cell_type": "markdown",
      "source": [
        "## 3. Denoise and find unique ASVs"
      ],
      "metadata": {
        "heading_collapsed": true
      }
    },
    {
      "cell_type": "code",
      "source": [
        "!qiime dada2 denoise-single \\\n",
        "  --i-demultiplexed-seqs 01-Intermediate/trimmed-seqs1.qza \\\n",
        "  --p-trim-left 0 \\\n",
        "  --p-trunc-len 220 \\\n",
        "  --p-n-threads 12 \\\n",
        "  --o-representative-sequences 01-Intermediate/rep-seqs-dada1.qza \\\n",
        "  --o-table 01-Intermediate/table-dada1.qza \\\n",
        "  --o-denoising-stats 01-Intermediate/stats-dada1.qza\n",
        "\n",
        "!qiime metadata tabulate \\\n",
        "  --m-input-file 01-Intermediate/stats-dada1.qza \\\n",
        "  --o-visualization 01-Intermediate/stats-dada1.qzv\n",
        "\n",
        "!qiime feature-table summarize \\\n",
        "  --i-table 01-Intermediate/table-dada1.qza \\\n",
        "  --o-visualization 01-Intermediate/table-dada1.qzv \\\n",
        "  --m-sample-metadata-file maps/map1.txt"
      ],
      "outputs": [],
      "execution_count": null,
      "metadata": {
        "hidden": true
      }
    },
    {
      "cell_type": "code",
      "source": [
        "!qiime dada2 denoise-single \\\n",
        "  --i-demultiplexed-seqs 01-Intermediate/trimmed-seqs2.qza \\\n",
        "  --p-trim-left 0 \\\n",
        "  --p-trunc-len 220 \\\n",
        "  --p-n-threads 12 \\\n",
        "  --o-representative-sequences 01-Intermediate/rep-seqs-dada2.qza \\\n",
        "  --o-table 01-Intermediate/table-dada2.qza \\\n",
        "  --o-denoising-stats 01-Intermediate/stats-dada2.qza\n",
        "\n",
        "!qiime metadata tabulate \\\n",
        "  --m-input-file 01-Intermediate/stats-dada2.qza \\\n",
        "  --o-visualization 01-Intermediate/stats-dada2.qzv\n",
        "\n",
        "!qiime feature-table summarize \\\n",
        "  --i-table 01-Intermediate/table-dada2.qza \\\n",
        "  --o-visualization 01-Intermediate/table-dada2.qzv \\\n",
        "  --m-sample-metadata-file maps/map2.txt"
      ],
      "outputs": [],
      "execution_count": null,
      "metadata": {}
    },
    {
      "cell_type": "code",
      "source": [
        "!qiime dada2 denoise-single \\\n",
        "  --i-demultiplexed-seqs 01-Intermediate/trimmed-seqs3.qza \\\n",
        "  --p-trim-left 0 \\\n",
        "  --p-trunc-len 220 \\\n",
        "  --p-n-threads 12 \\\n",
        "  --o-representative-sequences 01-Intermediate/rep-seqs-dada3.qza \\\n",
        "  --o-table 01-Intermediate/table-dada3.qza \\\n",
        "  --o-denoising-stats 01-Intermediate/stats-dada3.qza\n",
        "\n",
        "!qiime metadata tabulate \\\n",
        "  --m-input-file 01-Intermediate/stats-dada3.qza \\\n",
        "  --o-visualization 01-Intermediate/stats-dada3.qzv\n",
        "\n",
        "!qiime feature-table summarize \\\n",
        "  --i-table 01-Intermediate/table-dada3.qza \\\n",
        "  --o-visualization 01-Intermediate/table-dada3.qzv \\\n",
        "  --m-sample-metadata-file maps/map3.txt"
      ],
      "outputs": [],
      "execution_count": null,
      "metadata": {}
    },
    {
      "cell_type": "markdown",
      "source": [
        "## 4. Merge denoised data"
      ],
      "metadata": {}
    },
    {
      "cell_type": "code",
      "source": [
        "!mkdir 02-QiimeResults\n",
        "\n",
        "!qiime feature-table merge \\\n",
        "  --i-tables 01-Intermediate/table-dada1.qza \\\n",
        "  --i-tables 01-Intermediate/table-dada2.qza \\\n",
        "  --i-tables 01-Intermediate/table-dada3.qza \\\n",
        "  --o-merged-table 02-QiimeResults/table-dada.qza\n",
        "\n",
        "!qiime feature-table merge-seqs \\\n",
        "  --i-data 01-Intermediate/rep-seqs-dada1.qza \\\n",
        "  --i-data 01-Intermediate/rep-seqs-dada2.qza \\\n",
        "  --i-data 01-Intermediate/rep-seqs-dada3.qza \\\n",
        "  --o-merged-data 02-QiimeResults/rep-seqs-dada.qza\n",
        "\n",
        "!qiime feature-table summarize \\\n",
        "  --i-table 02-QiimeResults/table-dada.qza \\\n",
        "  --o-visualization 02-QiimeResults/table-dada.qzv \\\n",
        "  --m-sample-metadata-file maps/map.txt"
      ],
      "outputs": [],
      "execution_count": null,
      "metadata": {}
    },
    {
      "cell_type": "markdown",
      "source": [
        "## 5. Create tree of ASVs"
      ],
      "metadata": {
        "heading_collapsed": true
      }
    },
    {
      "cell_type": "code",
      "source": [
        "!qiime phylogeny align-to-tree-mafft-fasttree \\\n",
        "  --i-sequences 02-QiimeResults/rep-seqs-dada.qza \\\n",
        "  --o-alignment 02-QiimeResults/aligned-rep-seqs.qza \\\n",
        "  --o-masked-alignment 02-QiimeResults/masked-aligned-rep-seqs.qza \\\n",
        "  --o-tree 02-QiimeResults/unrooted-tree.qza \\\n",
        "  --o-rooted-tree 02-QiimeResults/rooted-tree.qza"
      ],
      "outputs": [],
      "execution_count": null,
      "metadata": {
        "hidden": true
      }
    },
    {
      "cell_type": "markdown",
      "source": [
        "## 6. Assign Taxonomy to ASVs"
      ],
      "metadata": {}
    },
    {
      "cell_type": "markdown",
      "source": [
        "### Download Silva Database"
      ],
      "metadata": {}
    },
    {
      "cell_type": "code",
      "source": [
        "!mkdir silva\n",
        "\n",
        "!wget -O silva/silva-138-99-seqs.qza https://data.qiime2.org/2020.11/common/silva-138-99-seqs.qza\n",
        "!wget -O silva/silva-138-99-tax.qza https://data.qiime2.org/2020.11/common/silva-138-99-tax.qza    "
      ],
      "outputs": [],
      "execution_count": null,
      "metadata": {}
    },
    {
      "cell_type": "markdown",
      "source": [
        "### Assign Taxonomy"
      ],
      "metadata": {}
    },
    {
      "cell_type": "code",
      "source": [
        "!qiime feature-classifier classify-consensus-vsearch \\\n",
        "  --i-query 02-QiimeResults/rep-seqs-dada.qza \\\n",
        "  --i-reference-reads silva/silva-138-99-seqs.qza \\\n",
        "  --i-reference-taxonomy silva/silva-138-99-tax.qza \\\n",
        "  --p-threads 10 \\\n",
        "  --o-classification 02-QiimeResults/taxonomy-vsearch.qza \\\n",
        "  --verbose\n",
        "\n",
        "!qiime metadata tabulate \\\n",
        "  --m-input-file 02-QiimeResults/taxonomy-vsearch.qza \\\n",
        "  --o-visualization 02-QiimeResults/taxonomy-vsearch.qzv"
      ],
      "outputs": [],
      "execution_count": null,
      "metadata": {
        "scrolled": false
      }
    },
    {
      "cell_type": "code",
      "source": [],
      "outputs": [],
      "execution_count": null,
      "metadata": {}
    },
    {
      "cell_type": "code",
      "source": [],
      "outputs": [],
      "execution_count": null,
      "metadata": {}
    }
  ],
  "metadata": {
    "kernelspec": {
      "display_name": "Python 3",
      "language": "python",
      "name": "python3"
    },
    "language_info": {
      "codemirror_mode": {
        "name": "ipython",
        "version": 3
      },
      "file_extension": ".py",
      "mimetype": "text/x-python",
      "name": "python",
      "nbconvert_exporter": "python",
      "pygments_lexer": "ipython3",
      "version": "3.6.7"
    },
    "toc": {
      "toc_position": {},
      "skip_h1_title": false,
      "number_sections": true,
      "title_cell": "Table of Contents",
      "toc_window_display": true,
      "base_numbering": 1,
      "toc_section_display": true,
      "title_sidebar": "Contents",
      "toc_cell": false,
      "nav_menu": {},
      "sideBar": true
    },
    "nteract": {
      "version": "0.28.0"
    }
  },
  "nbformat": 4,
  "nbformat_minor": 2
}