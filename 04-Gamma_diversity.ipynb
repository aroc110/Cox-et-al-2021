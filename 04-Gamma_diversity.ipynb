{
  "cells": [
    {
      "cell_type": "markdown",
      "source": [
        "I will group all the biological replicates into a single sample to redo the rarefaction curves.\n",
        "\n",
        "Results will go in the directory Results/gamma, files there all refer to this analyses."
      ],
      "metadata": {}
    },
    {
      "cell_type": "code",
      "source": [
        "!mkdir 03-Results/gamma\n",
        "\n",
        "!qiime feature-table group \\\n",
        "  --i-table 02-QiimeResults/table-dada.qza \\\n",
        "  --m-metadata-file maps/map.txt \\\n",
        "  --p-axis sample \\\n",
        "  --p-mode sum \\\n",
        "  --m-metadata-column SITESOILYEAR \\\n",
        "  --o-grouped-table 03-Results/gamma/table_grouped.qza \\\n",
        "  --verbose"
      ],
      "outputs": [],
      "execution_count": null,
      "metadata": {}
    },
    {
      "cell_type": "markdown",
      "source": [
        "We need to use a new map file: `mapgamma.txt`"
      ],
      "metadata": {}
    },
    {
      "cell_type": "code",
      "source": [
        "!qiime feature-table summarize \\\n",
        "  --i-table 03-Results/gamma/table_grouped.qza \\\n",
        "  --o-visualization 03-Results/gamma/table_grouped.qzv \\\n",
        "  --m-sample-metadata-file maps/mapgamma.txt"
      ],
      "outputs": [],
      "execution_count": null,
      "metadata": {}
    },
    {
      "cell_type": "code",
      "source": [
        "!qiime diversity core-metrics-phylogenetic \\\n",
        "  --i-phylogeny 02-QiimeResults/rooted-tree.qza \\\n",
        "  --i-table 03-Results/gamma/table_grouped.qza \\\n",
        "  --p-sampling-depth 150000 \\\n",
        "  --m-metadata-file maps/mapgamma.txt \\\n",
        "  --output-dir 03-Results/gamma/analyses"
      ],
      "outputs": [],
      "execution_count": null,
      "metadata": {}
    },
    {
      "cell_type": "code",
      "source": [
        "# Rarefaction Plots\n",
        "!qiime diversity alpha-rarefaction \\\n",
        "  --i-table 03-Results/gamma/table_grouped.qza \\\n",
        "  --i-phylogeny 02-QiimeResults/rooted-tree.qza \\\n",
        "  --p-max-depth 150000 \\\n",
        "  --m-metadata-file maps/mapgamma.txt \\\n",
        "  --o-visualization 03-Results/gamma/analyses/alpha-rarefaction.qzv"
      ],
      "outputs": [],
      "execution_count": null,
      "metadata": {}
    },
    {
      "cell_type": "code",
      "source": [],
      "outputs": [],
      "execution_count": null,
      "metadata": {}
    }
  ],
  "metadata": {
    "kernelspec": {
      "display_name": "Python 3",
      "language": "python",
      "name": "python3"
    },
    "language_info": {
      "codemirror_mode": {
        "name": "ipython",
        "version": 3
      },
      "file_extension": ".py",
      "mimetype": "text/x-python",
      "name": "python",
      "nbconvert_exporter": "python",
      "pygments_lexer": "ipython3",
      "version": "3.6.7"
    },
    "nteract": {
      "version": "0.28.0"
    }
  },
  "nbformat": 4,
  "nbformat_minor": 2
}