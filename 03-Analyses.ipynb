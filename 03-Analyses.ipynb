{
  "cells": [
    {
      "cell_type": "markdown",
      "source": [
        "## Diversity Alpha and Beta"
      ],
      "metadata": {}
    },
    {
      "cell_type": "code",
      "source": [
        "!mkdir 03-Results\n",
        "\n",
        "# Alpha and Beta diversity\n",
        "!qiime diversity core-metrics-phylogenetic \\\n",
        "  --i-phylogeny 02-QiimeResults/rooted-tree.qza \\\n",
        "  --i-table 02-QiimeResults/table-dada.qza \\\n",
        "  --p-sampling-depth 19000 \\\n",
        "  --m-metadata-file maps/map.txt \\\n",
        "  --output-dir 03-Results/analyses\n",
        "\n",
        "# Rarefaction Plots\n",
        "!qiime diversity alpha-rarefaction \\\n",
        "  --i-table 02-QiimeResults/table-dada.qza \\\n",
        "  --i-phylogeny 02-QiimeResults/rooted-tree.qza \\\n",
        "  --p-max-depth 19000 \\\n",
        "  --m-metadata-file maps/map.txt \\\n",
        "  --o-visualization 03-Results/analyses/alpha-rarefaction.qzv\n",
        "\n",
        "# Taxa plots\n",
        "!qiime taxa barplot \\\n",
        "  --i-table 02-QiimeResults/table-dada.qza \\\n",
        "  --i-taxonomy 02-QiimeResults/taxonomy-vsearch.qza \\\n",
        "  --m-metadata-file maps/map.txt \\\n",
        "  --o-visualization 03-Results/analyses/taxa-bar-plots-vsearch.qzv"
      ],
      "outputs": [],
      "execution_count": null,
      "metadata": {}
    },
    {
      "cell_type": "markdown",
      "source": [
        "## Significance"
      ],
      "metadata": {}
    },
    {
      "cell_type": "code",
      "source": [
        "!qiime diversity alpha-group-significance \\\n",
        "  --i-alpha-diversity 03-Results/analyses/shannon_vector.qza \\\n",
        "  --m-metadata-file maps/map.txt \\\n",
        "  --o-visualization 03-Results/analyses/shannon-group-significance.qzv\n",
        "\n",
        "!qiime diversity alpha-group-significance \\\n",
        "  --i-alpha-diversity 03-Results/analyses/faith_pd_vector.qza \\\n",
        "  --m-metadata-file maps/map.txt \\\n",
        "  --o-visualization 03-Results/analyses/faith-group-significance.qzv\n",
        "\n",
        "!qiime diversity beta-group-significance \\\n",
        "  --i-distance-matrix 03-Results/analyses/bray_curtis_distance_matrix.qza \\\n",
        "  --m-metadata-file maps/map.txt \\\n",
        "  --m-metadata-column YEAR \\\n",
        "  --o-visualization 03-Results/analyses/bray_curtis-year-significance.qzv \\\n",
        "  --p-pairwise\n",
        "\n",
        "!qiime diversity beta-group-significance \\\n",
        "  --i-distance-matrix 03-Results/analyses/bray_curtis_distance_matrix.qza \\\n",
        "  --m-metadata-file maps/map.txt \\\n",
        "  --m-metadata-column SOIL \\\n",
        "  --o-visualization 03-Results/analyses/bray_curtis-soil-significance.qzv \\\n",
        "  --p-pairwise\n",
        "\n",
        "!qiime diversity beta-group-significance \\\n",
        "  --i-distance-matrix 03-Results/analyses/bray_curtis_distance_matrix.qza \\\n",
        "  --m-metadata-file maps/map.txt \\\n",
        "  --m-metadata-column SITE \\\n",
        "  --o-visualization 03-Results/analyses/bray_curtis-site-significance.qzv \\\n",
        "  --p-pairwise\n",
        "\n",
        "!qiime diversity beta-group-significance \\\n",
        "  --i-distance-matrix 03-Results/analyses/bray_curtis_distance_matrix.qza \\\n",
        "  --m-metadata-file maps/map.txt \\\n",
        "  --m-metadata-column SITESOILYEAR \\\n",
        "  --o-visualization 03-Results/analyses/bray_curtis-SiteSoilYear-significance.qzv \\\n",
        "  --p-pairwise\n",
        "\n",
        "!qiime diversity adonis \\\n",
        "  --i-distance-matrix 03-Results/analyses/bray_curtis_distance_matrix.qza \\\n",
        "  --m-metadata-file maps/map.txt \\\n",
        "  --p-formula 'SITE+SOIL+YEAR+SITE:SOIL+SITE:YEAR+SOIL:YEAR+SITE:SOIL:YEAR' \\\n",
        "  --p-permutations 999 \\\n",
        "  --p-n-jobs 12 \\\n",
        "  --o-visualization 03-Results/analyses/bray_curtis-adonis.qzv"
      ],
      "outputs": [],
      "execution_count": null,
      "metadata": {}
    },
    {
      "cell_type": "markdown",
      "source": [],
      "metadata": {}
    },
    {
      "cell_type": "code",
      "source": [],
      "outputs": [],
      "execution_count": null,
      "metadata": {}
    }
  ],
  "metadata": {
    "kernelspec": {
      "display_name": "Python 3",
      "language": "python",
      "name": "python3"
    },
    "language_info": {
      "codemirror_mode": {
        "name": "ipython",
        "version": 3
      },
      "file_extension": ".py",
      "mimetype": "text/x-python",
      "name": "python",
      "nbconvert_exporter": "python",
      "pygments_lexer": "ipython3",
      "version": "3.6.7"
    },
    "toc": {
      "toc_position": {},
      "skip_h1_title": false,
      "number_sections": true,
      "title_cell": "Table of Contents",
      "toc_window_display": true,
      "base_numbering": 1,
      "toc_section_display": true,
      "title_sidebar": "Contents",
      "toc_cell": false,
      "nav_menu": {},
      "sideBar": true
    },
    "nteract": {
      "version": "0.28.0"
    }
  },
  "nbformat": 4,
  "nbformat_minor": 2
}