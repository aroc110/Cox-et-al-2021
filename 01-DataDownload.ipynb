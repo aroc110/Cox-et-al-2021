{
  "cells": [
    {
      "cell_type": "markdown",
      "source": [
        "# Download Files From GenBank"
      ],
      "metadata": {}
    },
    {
      "cell_type": "markdown",
      "source": [
        "## Read file with biosample numbers\n",
        "\n",
        "Note that in this project we had three different sequencing runs. The 2016 one that is contained in bioproject: PRJNA398660, while the samples for 2017 and 2019 are contained in bioproject: PRJNA699561 (but came from two different Illumina runs). We will process each of the runs separately and then merge the results.\n",
        "\n",
        "The accession numbers of the BioSamples used in the study are in the file: `SraRunTable.txt` in the `maps` directory. \n",
        "\n",
        "The file contains the accession number of the SRA files, the BioSample accession number, the sample name that we will use in the analyses, and the group that the sample belongs to.\n",
        "\n",
        "To download the sequences we are using NCBI's api, sra_tools. We need to have that installed: \n",
        "\n",
        "```\n",
        "conda install -c bioconda sra-tools\n",
        "```\n",
        "\n",
        "This notebook will download all the files, rename them, gzip them, and create manifest files to be used in the Qiime2 analysis in the next notebook."
      ],
      "metadata": {}
    },
    {
      "cell_type": "code",
      "source": [
        "filein = open(\"maps/SraRunTable.txt\",'r')\n",
        "\n",
        "filein.readline()\n",
        "group1 = {}\n",
        "group2 = {}\n",
        "group3 = {}\n",
        "\n",
        "for line in filein:\n",
        "    run, sample, name, group = line.strip().split()\n",
        "    if group == 'data1':\n",
        "        group1[name] = run\n",
        "    elif group == 'data2':\n",
        "        group2[name] = run\n",
        "    elif group == 'data3':\n",
        "        group3[name] = run"
      ],
      "outputs": [],
      "execution_count": null,
      "metadata": {}
    },
    {
      "cell_type": "code",
      "source": [
        "def download(accessions, location):\n",
        "    import os\n",
        "    #data\n",
        "    for name in accessions:\n",
        "        print(\"Downloading: {}\".format(name))\n",
        "        if not os.path.exists(location):\n",
        "            s0 = os.system(\"mkdir {}\".format(location))\n",
        "            \n",
        "        s1 = os.system(\"fastq-dump -O {folder} --split-files {acc}\".format(folder=location, acc=accessions[name]))\n",
        "        s2 = os.system(\"mv {folder}/{acc}_2.fastq {folder}/{name}_2.fastq\".format(folder=location,acc=accessions[name],name=name))\n",
        "        s3 = os.system(\"mv {folder}/{acc}_1.fastq {folder}/{name}_1.fastq\".format(folder=location,acc=accessions[name],name=name))\n",
        "        s4 = os.system(\"gzip {folder}/{name}_1.fastq\".format(folder=location,name=name))\n",
        "        s5 = os.system(\"gzip {folder}/{name}_2.fastq\".format(folder=location,name=name))\n",
        "        if s1 != 0 or s2 != 0 or s3 != 0 or s4 != 0 or s5 !=0:\n",
        "            return(\"Error in trial: {} {} {} {} {} {}\\t{}\\n\".format(s1,s2,s3,s4,s5,name, accessions[name]))\n",
        "    return(s1,s2,s3,s4)"
      ],
      "outputs": [],
      "execution_count": null,
      "metadata": {}
    },
    {
      "cell_type": "code",
      "source": [
        "download(group1, \"data\")"
      ],
      "outputs": [],
      "execution_count": null,
      "metadata": {}
    },
    {
      "cell_type": "code",
      "source": [
        "download(group2, \"data\")"
      ],
      "outputs": [],
      "execution_count": null,
      "metadata": {}
    },
    {
      "cell_type": "code",
      "source": [
        "download(group3, \"data\")"
      ],
      "outputs": [],
      "execution_count": null,
      "metadata": {}
    },
    {
      "cell_type": "code",
      "source": [
        "def manifest(accessions,location,file):\n",
        "    import os\n",
        "    here = !pwd\n",
        "    fileout = open(file,'w')\n",
        "    fileout.write(\"sample-id\\tabsolute-filepath\\n\")\n",
        "    for name in accessions:\n",
        "        sample = name\n",
        "        path = \"{}/{}/{}_1.fastq.gz\".format(here[0], location, sample)\n",
        "        print(\"{}/{}/{}_1.fastq.gz\".format(here[0], location, sample))\n",
        "        fileout.write(\"{sample}\\t{path}\\n\".format(sample=sample,path=path))\n",
        "    fileout.close()\n",
        "    return(0)\n",
        "    "
      ],
      "outputs": [],
      "execution_count": null,
      "metadata": {}
    },
    {
      "cell_type": "code",
      "source": [
        "manifest(group1, \"data\", \"maps/manifest1.txt\")\n",
        "manifest(group2, \"data\", \"maps/manifest2.txt\")\n",
        "manifest(group3, \"data\", \"maps/manifest3.txt\")"
      ],
      "outputs": [],
      "execution_count": null,
      "metadata": {}
    },
    {
      "cell_type": "code",
      "source": [],
      "outputs": [],
      "execution_count": null,
      "metadata": {}
    }
  ],
  "metadata": {
    "kernelspec": {
      "display_name": "Python 3",
      "language": "python",
      "name": "python3"
    },
    "language_info": {
      "codemirror_mode": {
        "name": "ipython",
        "version": 3
      },
      "file_extension": ".py",
      "mimetype": "text/x-python",
      "name": "python",
      "nbconvert_exporter": "python",
      "pygments_lexer": "ipython3",
      "version": "3.6.7"
    },
    "nteract": {
      "version": "0.28.0"
    }
  },
  "nbformat": 4,
  "nbformat_minor": 2
}